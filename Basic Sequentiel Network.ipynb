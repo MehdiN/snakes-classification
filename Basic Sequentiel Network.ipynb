{
 "cells": [
  {
   "cell_type": "code",
   "execution_count": null,
   "metadata": {},
   "outputs": [],
   "source": [
    "import numpy as np\n",
    "import matplotlib.pyplot as plt\n",
    "import tensorflow as tf\n",
    "from tensorflow import keras\n",
    "from tensorflow.keras import layers\n",
    "from tensorflow.keras.models import Sequential\n",
    "from nn_utils import *\n",
    "\n",
    "tf.enable_eager_execution()"
   ]
  },
  {
   "cell_type": "code",
   "execution_count": null,
   "metadata": {},
   "outputs": [],
   "source": [
    "# Get dataset\n",
    "train_set_input,train_set_label,test_set_input,test_set_label = load_dataset()\n",
    "\n",
    "print(\"Images train:\", train_set_input.shape)\n",
    "print(\"Labels train:\", train_set_label.shape)\n",
    "print(\"Images test:\", test_set_input.shape)\n",
    "print(\"Labels test:\", test_set_label.shape)\n",
    "\n",
    "classes = [\"copperhead\",\"cottonmouth\",\"watersnake\"]"
   ]
  },
  {
   "cell_type": "code",
   "execution_count": null,
   "metadata": {},
   "outputs": [],
   "source": [
    "train_set_input[0,:,:,:].shape"
   ]
  },
  {
   "cell_type": "code",
   "execution_count": null,
   "metadata": {},
   "outputs": [],
   "source": [
    "# Transform the label on vector label\n",
    "\n",
    "Y_train = convert_to_one_hot(train_set_label,3)\n",
    "Y_test = convert_to_one_hot(test_set_label,3)"
   ]
  },
  {
   "cell_type": "code",
   "execution_count": null,
   "metadata": {},
   "outputs": [],
   "source": [
    "# Print a random Image from the train set\n",
    "idx = np.random.randint(0,train_set_input.shape[0])\n",
    "plt.imshow(train_set_input[idx])\n",
    "print(\"Classe: {}\".format(classes[np.where(Y_train[:,idx]==1)[0][0]]))"
   ]
  },
  {
   "cell_type": "code",
   "execution_count": null,
   "metadata": {},
   "outputs": [],
   "source": [
    "# Flip and rotate the images to augment dataset \n",
    "\n",
    "def augment_data_set(input_dataset,input_labels):\n",
    "    augmented_dataset_image = input_dataset\n",
    "    augmented_dataset_label = input_labels\n",
    "    for i in range(input_dataset.shape[0]):\n",
    "        img = input_dataset[i,:,:,:]\n",
    "        label = input_labels[i]\n",
    "        img_flip = tf.image.flip_left_right(img)\n",
    "        img_rot_1 = tf.contrib.image.rotate(img,np.deg2rad(25))\n",
    "        img_rot_2 = tf.contrib.image.rotate(img,np.deg2rad(-25))\n",
    "        img_flip = img_flip.numpy().reshape((1,128,128,3))\n",
    "        img_rot_1 = img_rot_1.numpy().reshape((1,128,128,3))\n",
    "        img_rot_2 = img_rot_2.numpy().reshape((1,128,128,3))\n",
    "        augmented_dataset_image = np.concatenate((augmented_dataset_image,img_flip),axis=0)\n",
    "        augmented_dataset_label = np.append(augmented_dataset_label,label)\n",
    "        augmented_dataset_image = np.concatenate((augmented_dataset_image,img_rot_1),axis=0)\n",
    "        augmented_dataset_label = np.append(augmented_dataset_label,label)\n",
    "        augmented_dataset_image = np.concatenate((augmented_dataset_image,img_rot_2),axis=0)\n",
    "        augmented_dataset_label = np.append(augmented_dataset_label,label)\n",
    "    # SHUFFLE DATASET\n",
    "    np.random.seed(123)\n",
    "    idx = np.random.permutation(len(augmented_dataset_image))\n",
    "    augmented_dataset_image = augmented_dataset_image[idx]\n",
    "    augmented_dataset_label = augmented_dataset_label[idx]\n",
    "    return augmented_dataset_image,augmented_dataset_label"
   ]
  },
  {
   "cell_type": "code",
   "execution_count": null,
   "metadata": {},
   "outputs": [],
   "source": [
    "augmented_dataset_image,augmented_dataset_label = augment_data_set(train_set_input,train_set_label)"
   ]
  },
  {
   "cell_type": "code",
   "execution_count": null,
   "metadata": {},
   "outputs": [],
   "source": [
    "Y_train = convert_to_one_hot(augmented_dataset_label,3)\n",
    "\n",
    "idx = np.random.randint(0,augmented_dataset_image.shape[0])\n",
    "plt.imshow(augmented_dataset_image[idx])\n",
    "print(\"Classe: {}\".format(classes[np.where(Y_train[:,idx]==1)[0][0]]))"
   ]
  },
  {
   "cell_type": "code",
   "execution_count": null,
   "metadata": {},
   "outputs": [],
   "source": [
    "# Reshape Data for FC NN\n",
    "\n",
    "# Normalize\n",
    "#X_train = augmented_dataset_image/255\n",
    "X_train = train_set_input/255\n",
    "X_test = test_set_input/255\n",
    "# Reshape\n",
    "# X_train = X_train.reshape(X_train.shape[0],-1).T\n",
    "# X_test = X_test.reshape(X_test.shape[0],-1).T\n",
    "\n",
    "print(X_train.shape)\n",
    "print(Y_train.shape)\n",
    "\n",
    "print(X_test.shape)\n",
    "print(Y_test.shape)\n",
    "\n"
   ]
  },
  {
   "cell_type": "markdown",
   "metadata": {},
   "source": [
    "## ARCHITECTURE of the NN"
   ]
  },
  {
   "cell_type": "code",
   "execution_count": null,
   "metadata": {},
   "outputs": [],
   "source": [
    "# simple testing NN\n",
    "model = Sequential([\n",
    "    layers.Flatten(input_shape=(128, 128,3)),\n",
    "    layers.Dense(128,activation=tf.nn.relu),\n",
    "    layers.Dense(64,activation=tf.nn.relu),\n",
    "    layers.Dense(3,activation=tf.nn.softmax)]\n",
    ")"
   ]
  },
  {
   "cell_type": "code",
   "execution_count": null,
   "metadata": {},
   "outputs": [],
   "source": [
    "model.compile(optimizer='adam',\n",
    "              loss='categorical_crossentropy',\n",
    "              metrics=['accuracy'])"
   ]
  },
  {
   "cell_type": "code",
   "execution_count": null,
   "metadata": {},
   "outputs": [],
   "source": [
    "model.fit(X_train, Y_train.T, epochs=50,batch_size=16)"
   ]
  },
  {
   "cell_type": "code",
   "execution_count": null,
   "metadata": {},
   "outputs": [],
   "source": [
    "test_loss, test_acc = model.evaluate(X_test, Y_test.T)\n",
    "\n",
    "print('Test accuracy:', test_acc)"
   ]
  },
  {
   "cell_type": "code",
   "execution_count": null,
   "metadata": {},
   "outputs": [],
   "source": [
    "predictions = model.predict(X_test)"
   ]
  },
  {
   "cell_type": "code",
   "execution_count": null,
   "metadata": {},
   "outputs": [],
   "source": [
    "idx = np.random.randint(0,test_set_input.shape[0])\n",
    "plt.imshow(test_set_input[idx])\n",
    "print(\"Predicted Classe: {}\".format(classes[np.argmax(predictions[idx,:])]))\n",
    "print(\"Classe: {}\".format(classes[np.where(Y_test[:,idx]==1)[0][0]]))"
   ]
  },
  {
   "cell_type": "code",
   "execution_count": null,
   "metadata": {},
   "outputs": [],
   "source": [
    "model.summary()"
   ]
  },
  {
   "cell_type": "code",
   "execution_count": null,
   "metadata": {},
   "outputs": [],
   "source": []
  }
 ],
 "metadata": {
  "kernelspec": {
   "display_name": "Python 3",
   "language": "python",
   "name": "python3"
  },
  "language_info": {
   "codemirror_mode": {
    "name": "ipython",
    "version": 3
   },
   "file_extension": ".py",
   "mimetype": "text/x-python",
   "name": "python",
   "nbconvert_exporter": "python",
   "pygments_lexer": "ipython3",
   "version": "3.6.8"
  }
 },
 "nbformat": 4,
 "nbformat_minor": 2
}
